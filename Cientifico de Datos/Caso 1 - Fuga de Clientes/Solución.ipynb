{
 "cells": [
  {
   "cell_type": "markdown",
   "metadata": {},
   "source": [
    "## 1) Importar librerias para el caso"
   ]
  },
  {
   "cell_type": "code",
   "execution_count": 86,
   "metadata": {},
   "outputs": [],
   "source": [
    "import pandas as pd\n",
    "import numpy as np\n",
    "from sklearn.model_selection import train_test_split\n",
    "from sklearn.compose import ColumnTransformer\n",
    "from sklearn.preprocessing import OneHotEncoder, StandardScaler\n",
    "from sklearn.linear_model import LogisticRegression\n",
    "from sklearn.pipeline import Pipeline"
   ]
  },
  {
   "cell_type": "markdown",
   "metadata": {},
   "source": [
    "## 2) Cargar dataframes"
   ]
  },
  {
   "cell_type": "code",
   "execution_count": 87,
   "metadata": {},
   "outputs": [],
   "source": [
    "Afiliados_Activos = pd.read_csv(\"Afiliados Activos.txt\", delimiter='\\t')\n",
    "Afiliados_Fugados = pd.read_csv(\"Afiliados Fugados.txt\", delimiter='\\t')"
   ]
  },
  {
   "cell_type": "code",
   "execution_count": 88,
   "metadata": {},
   "outputs": [
    {
     "data": {
      "text/html": [
       "<div>\n",
       "<style scoped>\n",
       "    .dataframe tbody tr th:only-of-type {\n",
       "        vertical-align: middle;\n",
       "    }\n",
       "\n",
       "    .dataframe tbody tr th {\n",
       "        vertical-align: top;\n",
       "    }\n",
       "\n",
       "    .dataframe thead th {\n",
       "        text-align: right;\n",
       "    }\n",
       "</style>\n",
       "<table border=\"1\" class=\"dataframe\">\n",
       "  <thead>\n",
       "    <tr style=\"text-align: right;\">\n",
       "      <th></th>\n",
       "      <th>ID</th>\n",
       "      <th>Estado</th>\n",
       "      <th>Periodo</th>\n",
       "      <th>año</th>\n",
       "      <th>Género</th>\n",
       "      <th>Edad</th>\n",
       "      <th>\"IBC\"</th>\n",
       "      <th>Ciudad</th>\n",
       "      <th>Origen_Afiliado</th>\n",
       "      <th>Origen_AFP</th>\n",
       "      <th>Nivel_de_Satisfacción</th>\n",
       "      <th>PQR</th>\n",
       "    </tr>\n",
       "  </thead>\n",
       "  <tbody>\n",
       "    <tr>\n",
       "      <th>0</th>\n",
       "      <td>1</td>\n",
       "      <td>Activo</td>\n",
       "      <td>2017-11</td>\n",
       "      <td>2017</td>\n",
       "      <td>F</td>\n",
       "      <td>18</td>\n",
       "      <td>4066223</td>\n",
       "      <td>Bogotá</td>\n",
       "      <td>Traslado de AFP</td>\n",
       "      <td>Protección</td>\n",
       "      <td>3</td>\n",
       "      <td>No</td>\n",
       "    </tr>\n",
       "    <tr>\n",
       "      <th>1</th>\n",
       "      <td>2</td>\n",
       "      <td>Activo</td>\n",
       "      <td>2017-12</td>\n",
       "      <td>2017</td>\n",
       "      <td>M</td>\n",
       "      <td>65</td>\n",
       "      <td>1362789</td>\n",
       "      <td>Bogotá</td>\n",
       "      <td>Traslado de AFP</td>\n",
       "      <td>Porvenir</td>\n",
       "      <td>10</td>\n",
       "      <td>Si</td>\n",
       "    </tr>\n",
       "    <tr>\n",
       "      <th>2</th>\n",
       "      <td>3</td>\n",
       "      <td>Activo</td>\n",
       "      <td>2017-1</td>\n",
       "      <td>2017</td>\n",
       "      <td>F</td>\n",
       "      <td>66</td>\n",
       "      <td>1594382</td>\n",
       "      <td>Bogotá</td>\n",
       "      <td>Traslado de AFP</td>\n",
       "      <td>Protección</td>\n",
       "      <td>10</td>\n",
       "      <td>No</td>\n",
       "    </tr>\n",
       "    <tr>\n",
       "      <th>3</th>\n",
       "      <td>4</td>\n",
       "      <td>Activo</td>\n",
       "      <td>2017-2</td>\n",
       "      <td>2017</td>\n",
       "      <td>F</td>\n",
       "      <td>18</td>\n",
       "      <td>4794222</td>\n",
       "      <td>Bogotá</td>\n",
       "      <td>Traslado de AFP</td>\n",
       "      <td>Porvenir</td>\n",
       "      <td>10</td>\n",
       "      <td>No</td>\n",
       "    </tr>\n",
       "    <tr>\n",
       "      <th>4</th>\n",
       "      <td>5</td>\n",
       "      <td>Activo</td>\n",
       "      <td>2017-3</td>\n",
       "      <td>2017</td>\n",
       "      <td>F</td>\n",
       "      <td>18</td>\n",
       "      <td>4621926</td>\n",
       "      <td>Cartagena</td>\n",
       "      <td>Traslado de AFP</td>\n",
       "      <td>Porvenir</td>\n",
       "      <td>10</td>\n",
       "      <td>No</td>\n",
       "    </tr>\n",
       "  </tbody>\n",
       "</table>\n",
       "</div>"
      ],
      "text/plain": [
       "   ID  Estado  Periodo   año Género  Edad   \"IBC\"      Ciudad  \\\n",
       "0   1  Activo  2017-11  2017      F    18  4066223     Bogotá   \n",
       "1   2  Activo  2017-12  2017      M    65  1362789     Bogotá   \n",
       "2   3  Activo   2017-1  2017      F    66  1594382     Bogotá   \n",
       "3   4  Activo   2017-2  2017      F    18  4794222     Bogotá   \n",
       "4   5  Activo   2017-3  2017      F    18  4621926  Cartagena   \n",
       "\n",
       "   Origen_Afiliado  Origen_AFP  Nivel_de_Satisfacción PQR  \n",
       "0  Traslado de AFP  Protección                      3  No  \n",
       "1  Traslado de AFP    Porvenir                     10  Si  \n",
       "2  Traslado de AFP  Protección                     10  No  \n",
       "3  Traslado de AFP    Porvenir                     10  No  \n",
       "4  Traslado de AFP    Porvenir                     10  No  "
      ]
     },
     "execution_count": 88,
     "metadata": {},
     "output_type": "execute_result"
    }
   ],
   "source": [
    "Afiliados_Activos.head(5)"
   ]
  },
  {
   "cell_type": "code",
   "execution_count": 89,
   "metadata": {},
   "outputs": [
    {
     "data": {
      "text/html": [
       "<div>\n",
       "<style scoped>\n",
       "    .dataframe tbody tr th:only-of-type {\n",
       "        vertical-align: middle;\n",
       "    }\n",
       "\n",
       "    .dataframe tbody tr th {\n",
       "        vertical-align: top;\n",
       "    }\n",
       "\n",
       "    .dataframe thead th {\n",
       "        text-align: right;\n",
       "    }\n",
       "</style>\n",
       "<table border=\"1\" class=\"dataframe\">\n",
       "  <thead>\n",
       "    <tr style=\"text-align: right;\">\n",
       "      <th></th>\n",
       "      <th>ID</th>\n",
       "      <th>Estado</th>\n",
       "      <th>Periodo</th>\n",
       "      <th>Año</th>\n",
       "      <th>Género</th>\n",
       "      <th>\"Edad\"</th>\n",
       "      <th>\"IBC\"</th>\n",
       "      <th>Ciudad</th>\n",
       "      <th>Origen_Afiliado</th>\n",
       "      <th>Origen_AFP</th>\n",
       "      <th>Nivel_de_Satisfacción</th>\n",
       "      <th>PQR</th>\n",
       "    </tr>\n",
       "  </thead>\n",
       "  <tbody>\n",
       "    <tr>\n",
       "      <th>0</th>\n",
       "      <td>47773</td>\n",
       "      <td>fugado</td>\n",
       "      <td>2017-11</td>\n",
       "      <td>2017</td>\n",
       "      <td>F</td>\n",
       "      <td>40</td>\n",
       "      <td>1167421</td>\n",
       "      <td>Bogotá</td>\n",
       "      <td>Traslado de AFP</td>\n",
       "      <td>Porvenir</td>\n",
       "      <td>1</td>\n",
       "      <td>SI</td>\n",
       "    </tr>\n",
       "    <tr>\n",
       "      <th>1</th>\n",
       "      <td>47774</td>\n",
       "      <td>fugado</td>\n",
       "      <td>2017-12</td>\n",
       "      <td>2017</td>\n",
       "      <td>F</td>\n",
       "      <td>40</td>\n",
       "      <td>6742176</td>\n",
       "      <td>Bogotá</td>\n",
       "      <td>Traslado de AFP</td>\n",
       "      <td>Skandia</td>\n",
       "      <td>3</td>\n",
       "      <td>SI</td>\n",
       "    </tr>\n",
       "    <tr>\n",
       "      <th>2</th>\n",
       "      <td>47775</td>\n",
       "      <td>fugado</td>\n",
       "      <td>2017-1</td>\n",
       "      <td>2017</td>\n",
       "      <td>F</td>\n",
       "      <td>39</td>\n",
       "      <td>1300619</td>\n",
       "      <td>Bogotá</td>\n",
       "      <td>Traslado de AFP</td>\n",
       "      <td>Porvenir</td>\n",
       "      <td>2</td>\n",
       "      <td>SI</td>\n",
       "    </tr>\n",
       "    <tr>\n",
       "      <th>3</th>\n",
       "      <td>47776</td>\n",
       "      <td>fugado</td>\n",
       "      <td>2017-2</td>\n",
       "      <td>2017</td>\n",
       "      <td>F</td>\n",
       "      <td>31</td>\n",
       "      <td>1525194</td>\n",
       "      <td>Bogotá</td>\n",
       "      <td>Traslado de AFP</td>\n",
       "      <td>Porvenir</td>\n",
       "      <td>3</td>\n",
       "      <td>SI</td>\n",
       "    </tr>\n",
       "    <tr>\n",
       "      <th>4</th>\n",
       "      <td>47777</td>\n",
       "      <td>fugado</td>\n",
       "      <td>2017-3</td>\n",
       "      <td>2017</td>\n",
       "      <td>M</td>\n",
       "      <td>40</td>\n",
       "      <td>1570844</td>\n",
       "      <td>Barranquilla</td>\n",
       "      <td>Traslado de AFP</td>\n",
       "      <td>Porvenir</td>\n",
       "      <td>1</td>\n",
       "      <td>SI</td>\n",
       "    </tr>\n",
       "  </tbody>\n",
       "</table>\n",
       "</div>"
      ],
      "text/plain": [
       "      ID  Estado  Periodo   Año Género   \"Edad\"    \"IBC\"         Ciudad  \\\n",
       "0  47773  fugado  2017-11  2017      F        40  1167421        Bogotá   \n",
       "1  47774  fugado  2017-12  2017      F        40  6742176        Bogotá   \n",
       "2  47775  fugado   2017-1  2017      F        39  1300619        Bogotá   \n",
       "3  47776  fugado   2017-2  2017      F        31  1525194        Bogotá   \n",
       "4  47777  fugado   2017-3  2017      M        40  1570844  Barranquilla   \n",
       "\n",
       "   Origen_Afiliado Origen_AFP  Nivel_de_Satisfacción PQR  \n",
       "0  Traslado de AFP   Porvenir                      1  SI  \n",
       "1  Traslado de AFP    Skandia                      3  SI  \n",
       "2  Traslado de AFP   Porvenir                      2  SI  \n",
       "3  Traslado de AFP   Porvenir                      3  SI  \n",
       "4  Traslado de AFP   Porvenir                      1  SI  "
      ]
     },
     "execution_count": 89,
     "metadata": {},
     "output_type": "execute_result"
    }
   ],
   "source": [
    "Afiliados_Fugados.head(5)"
   ]
  },
  {
   "cell_type": "markdown",
   "metadata": {},
   "source": [
    "## 3) Limpiar dataframes"
   ]
  },
  {
   "cell_type": "code",
   "execution_count": 90,
   "metadata": {},
   "outputs": [
    {
     "data": {
      "text/plain": [
       "ID                        int64\n",
       "Estado                   object\n",
       "Periodo                  object\n",
       "año                       int64\n",
       "Género                   object\n",
       "Edad                      int64\n",
       " \"IBC\"                    int64\n",
       "Ciudad                   object\n",
       "Origen_Afiliado          object\n",
       "Origen_AFP               object\n",
       "Nivel_de_Satisfacción     int64\n",
       "PQR                      object\n",
       "dtype: object"
      ]
     },
     "execution_count": 90,
     "metadata": {},
     "output_type": "execute_result"
    }
   ],
   "source": [
    "# Tipo de datos primer df:\n",
    "Afiliados_Activos.dtypes"
   ]
  },
  {
   "cell_type": "code",
   "execution_count": 91,
   "metadata": {},
   "outputs": [
    {
     "data": {
      "text/plain": [
       "ID                        int64\n",
       "Estado                   object\n",
       "Periodo                  object\n",
       "Año                       int64\n",
       "Género                   object\n",
       " \"Edad\"                   int64\n",
       " \"IBC\"                    int64\n",
       "Ciudad                   object\n",
       "Origen_Afiliado          object\n",
       "Origen_AFP               object\n",
       "Nivel_de_Satisfacción     int64\n",
       "PQR                      object\n",
       "dtype: object"
      ]
     },
     "execution_count": 91,
     "metadata": {},
     "output_type": "execute_result"
    }
   ],
   "source": [
    "# Tipo de datos segundo df:\n",
    "Afiliados_Fugados.dtypes"
   ]
  },
  {
   "cell_type": "code",
   "execution_count": 92,
   "metadata": {},
   "outputs": [],
   "source": [
    "# Ajustar tipo de dato de \"Periodo\" para dejarlo como fecha:\n",
    "\n",
    "Afiliados_Activos['Periodo'] = pd.to_datetime(Afiliados_Activos['Periodo'], format='%Y-%m')\n",
    "Afiliados_Fugados['Periodo'] = pd.to_datetime(Afiliados_Fugados['Periodo'], format='%Y-%m')"
   ]
  },
  {
   "cell_type": "code",
   "execution_count": 93,
   "metadata": {},
   "outputs": [
    {
     "data": {
      "text/plain": [
       "ID                                int64\n",
       "Estado                           object\n",
       "Periodo                  datetime64[ns]\n",
       "Año                               int64\n",
       "Género                           object\n",
       " \"Edad\"                           int64\n",
       " \"IBC\"                            int64\n",
       "Ciudad                           object\n",
       "Origen_Afiliado                  object\n",
       "Origen_AFP                       object\n",
       "Nivel_de_Satisfacción             int64\n",
       "PQR                              object\n",
       "dtype: object"
      ]
     },
     "execution_count": 93,
     "metadata": {},
     "output_type": "execute_result"
    }
   ],
   "source": [
    "Afiliados_Fugados.dtypes"
   ]
  },
  {
   "cell_type": "code",
   "execution_count": 94,
   "metadata": {},
   "outputs": [
    {
     "data": {
      "text/html": [
       "<div>\n",
       "<style scoped>\n",
       "    .dataframe tbody tr th:only-of-type {\n",
       "        vertical-align: middle;\n",
       "    }\n",
       "\n",
       "    .dataframe tbody tr th {\n",
       "        vertical-align: top;\n",
       "    }\n",
       "\n",
       "    .dataframe thead th {\n",
       "        text-align: right;\n",
       "    }\n",
       "</style>\n",
       "<table border=\"1\" class=\"dataframe\">\n",
       "  <thead>\n",
       "    <tr style=\"text-align: right;\">\n",
       "      <th></th>\n",
       "      <th>ID</th>\n",
       "      <th>Estado</th>\n",
       "      <th>Periodo</th>\n",
       "      <th>Año</th>\n",
       "      <th>Género</th>\n",
       "      <th>\"Edad\"</th>\n",
       "      <th>\"IBC\"</th>\n",
       "      <th>Ciudad</th>\n",
       "      <th>Origen_Afiliado</th>\n",
       "      <th>Origen_AFP</th>\n",
       "      <th>Nivel_de_Satisfacción</th>\n",
       "      <th>PQR</th>\n",
       "    </tr>\n",
       "  </thead>\n",
       "  <tbody>\n",
       "    <tr>\n",
       "      <th>0</th>\n",
       "      <td>47773</td>\n",
       "      <td>fugado</td>\n",
       "      <td>2017-11-01</td>\n",
       "      <td>2017</td>\n",
       "      <td>F</td>\n",
       "      <td>40</td>\n",
       "      <td>1167421</td>\n",
       "      <td>Bogotá</td>\n",
       "      <td>Traslado de AFP</td>\n",
       "      <td>Porvenir</td>\n",
       "      <td>1</td>\n",
       "      <td>SI</td>\n",
       "    </tr>\n",
       "    <tr>\n",
       "      <th>1</th>\n",
       "      <td>47774</td>\n",
       "      <td>fugado</td>\n",
       "      <td>2017-12-01</td>\n",
       "      <td>2017</td>\n",
       "      <td>F</td>\n",
       "      <td>40</td>\n",
       "      <td>6742176</td>\n",
       "      <td>Bogotá</td>\n",
       "      <td>Traslado de AFP</td>\n",
       "      <td>Skandia</td>\n",
       "      <td>3</td>\n",
       "      <td>SI</td>\n",
       "    </tr>\n",
       "    <tr>\n",
       "      <th>2</th>\n",
       "      <td>47775</td>\n",
       "      <td>fugado</td>\n",
       "      <td>2017-01-01</td>\n",
       "      <td>2017</td>\n",
       "      <td>F</td>\n",
       "      <td>39</td>\n",
       "      <td>1300619</td>\n",
       "      <td>Bogotá</td>\n",
       "      <td>Traslado de AFP</td>\n",
       "      <td>Porvenir</td>\n",
       "      <td>2</td>\n",
       "      <td>SI</td>\n",
       "    </tr>\n",
       "    <tr>\n",
       "      <th>3</th>\n",
       "      <td>47776</td>\n",
       "      <td>fugado</td>\n",
       "      <td>2017-02-01</td>\n",
       "      <td>2017</td>\n",
       "      <td>F</td>\n",
       "      <td>31</td>\n",
       "      <td>1525194</td>\n",
       "      <td>Bogotá</td>\n",
       "      <td>Traslado de AFP</td>\n",
       "      <td>Porvenir</td>\n",
       "      <td>3</td>\n",
       "      <td>SI</td>\n",
       "    </tr>\n",
       "    <tr>\n",
       "      <th>4</th>\n",
       "      <td>47777</td>\n",
       "      <td>fugado</td>\n",
       "      <td>2017-03-01</td>\n",
       "      <td>2017</td>\n",
       "      <td>M</td>\n",
       "      <td>40</td>\n",
       "      <td>1570844</td>\n",
       "      <td>Barranquilla</td>\n",
       "      <td>Traslado de AFP</td>\n",
       "      <td>Porvenir</td>\n",
       "      <td>1</td>\n",
       "      <td>SI</td>\n",
       "    </tr>\n",
       "  </tbody>\n",
       "</table>\n",
       "</div>"
      ],
      "text/plain": [
       "      ID  Estado    Periodo   Año Género   \"Edad\"    \"IBC\"         Ciudad  \\\n",
       "0  47773  fugado 2017-11-01  2017      F        40  1167421        Bogotá   \n",
       "1  47774  fugado 2017-12-01  2017      F        40  6742176        Bogotá   \n",
       "2  47775  fugado 2017-01-01  2017      F        39  1300619        Bogotá   \n",
       "3  47776  fugado 2017-02-01  2017      F        31  1525194        Bogotá   \n",
       "4  47777  fugado 2017-03-01  2017      M        40  1570844  Barranquilla   \n",
       "\n",
       "   Origen_Afiliado Origen_AFP  Nivel_de_Satisfacción PQR  \n",
       "0  Traslado de AFP   Porvenir                      1  SI  \n",
       "1  Traslado de AFP    Skandia                      3  SI  \n",
       "2  Traslado de AFP   Porvenir                      2  SI  \n",
       "3  Traslado de AFP   Porvenir                      3  SI  \n",
       "4  Traslado de AFP   Porvenir                      1  SI  "
      ]
     },
     "execution_count": 94,
     "metadata": {},
     "output_type": "execute_result"
    }
   ],
   "source": [
    "Afiliados_Fugados.head(5)"
   ]
  },
  {
   "cell_type": "markdown",
   "metadata": {},
   "source": [
    "### 3.1) Añadir columna a cada df para categorizar clientes fugados de los activos:"
   ]
  },
  {
   "cell_type": "code",
   "execution_count": 95,
   "metadata": {},
   "outputs": [],
   "source": [
    "Afiliados_Activos['Activo/Fugado'] = 1 # 1 representa que está activo"
   ]
  },
  {
   "cell_type": "code",
   "execution_count": 96,
   "metadata": {},
   "outputs": [],
   "source": [
    "Afiliados_Fugados['Activo/Fugado'] = 2 # 2 representa que está fugado"
   ]
  },
  {
   "cell_type": "markdown",
   "metadata": {},
   "source": [
    "### 3.2) Unir dataframes en uno solo"
   ]
  },
  {
   "cell_type": "code",
   "execution_count": 97,
   "metadata": {},
   "outputs": [],
   "source": [
    "# Quitar espacios inservibles de los encabezados de un dataframe para poder unirlos:\n",
    "\n",
    "Afiliados_Fugados.columns = Afiliados_Fugados.columns.str.strip(' \"')\n",
    "Afiliados_Activos.columns = Afiliados_Activos.columns.str.strip(' \"')"
   ]
  },
  {
   "cell_type": "code",
   "execution_count": 98,
   "metadata": {},
   "outputs": [],
   "source": [
    "# Quitar comillas de algunos encabezados, renombrando las columnas:\n",
    "\n",
    "Afiliados_Fugados = Afiliados_Fugados.rename(columns={\n",
    "    '\"Edad\"': 'Edad',\n",
    "    '\"IBC\"': 'IBC'\n",
    "})\n",
    "\n",
    "Afiliados_Activos = Afiliados_Activos.rename(columns={\n",
    "    'año': 'Año',\n",
    "    '\"IBC\"': 'IBC'\n",
    "})"
   ]
  },
  {
   "cell_type": "code",
   "execution_count": 99,
   "metadata": {},
   "outputs": [
    {
     "name": "stdout",
     "output_type": "stream",
     "text": [
      "Index(['ID', 'Estado', 'Periodo', 'Año', 'Género', 'Edad', 'IBC', 'Ciudad',\n",
      "       'Origen_Afiliado', 'Origen_AFP', 'Nivel_de_Satisfacción', 'PQR',\n",
      "       'Activo/Fugado'],\n",
      "      dtype='object')\n",
      "Index(['ID', 'Estado', 'Periodo', 'Año', 'Género', 'Edad', 'IBC', 'Ciudad',\n",
      "       'Origen_Afiliado', 'Origen_AFP', 'Nivel_de_Satisfacción', 'PQR',\n",
      "       'Activo/Fugado'],\n",
      "      dtype='object')\n"
     ]
    }
   ],
   "source": [
    "# validar cambio y que ambos df tengan la misma estructura de nombres y orden de columnas:\n",
    "\n",
    "print(Afiliados_Fugados.columns)\n",
    "print(Afiliados_Activos.columns)"
   ]
  },
  {
   "cell_type": "code",
   "execution_count": 100,
   "metadata": {},
   "outputs": [
    {
     "data": {
      "text/html": [
       "<div>\n",
       "<style scoped>\n",
       "    .dataframe tbody tr th:only-of-type {\n",
       "        vertical-align: middle;\n",
       "    }\n",
       "\n",
       "    .dataframe tbody tr th {\n",
       "        vertical-align: top;\n",
       "    }\n",
       "\n",
       "    .dataframe thead th {\n",
       "        text-align: right;\n",
       "    }\n",
       "</style>\n",
       "<table border=\"1\" class=\"dataframe\">\n",
       "  <thead>\n",
       "    <tr style=\"text-align: right;\">\n",
       "      <th></th>\n",
       "      <th>ID</th>\n",
       "      <th>Estado</th>\n",
       "      <th>Periodo</th>\n",
       "      <th>Año</th>\n",
       "      <th>Género</th>\n",
       "      <th>Edad</th>\n",
       "      <th>IBC</th>\n",
       "      <th>Ciudad</th>\n",
       "      <th>Origen_Afiliado</th>\n",
       "      <th>Origen_AFP</th>\n",
       "      <th>Nivel_de_Satisfacción</th>\n",
       "      <th>PQR</th>\n",
       "      <th>Activo/Fugado</th>\n",
       "    </tr>\n",
       "  </thead>\n",
       "  <tbody>\n",
       "    <tr>\n",
       "      <th>0</th>\n",
       "      <td>1</td>\n",
       "      <td>Activo</td>\n",
       "      <td>2017-11-01</td>\n",
       "      <td>2017</td>\n",
       "      <td>F</td>\n",
       "      <td>18</td>\n",
       "      <td>4066223</td>\n",
       "      <td>Bogotá</td>\n",
       "      <td>Traslado de AFP</td>\n",
       "      <td>Protección</td>\n",
       "      <td>3</td>\n",
       "      <td>No</td>\n",
       "      <td>1</td>\n",
       "    </tr>\n",
       "    <tr>\n",
       "      <th>1</th>\n",
       "      <td>2</td>\n",
       "      <td>Activo</td>\n",
       "      <td>2017-12-01</td>\n",
       "      <td>2017</td>\n",
       "      <td>M</td>\n",
       "      <td>65</td>\n",
       "      <td>1362789</td>\n",
       "      <td>Bogotá</td>\n",
       "      <td>Traslado de AFP</td>\n",
       "      <td>Porvenir</td>\n",
       "      <td>10</td>\n",
       "      <td>Si</td>\n",
       "      <td>1</td>\n",
       "    </tr>\n",
       "    <tr>\n",
       "      <th>2</th>\n",
       "      <td>3</td>\n",
       "      <td>Activo</td>\n",
       "      <td>2017-01-01</td>\n",
       "      <td>2017</td>\n",
       "      <td>F</td>\n",
       "      <td>66</td>\n",
       "      <td>1594382</td>\n",
       "      <td>Bogotá</td>\n",
       "      <td>Traslado de AFP</td>\n",
       "      <td>Protección</td>\n",
       "      <td>10</td>\n",
       "      <td>No</td>\n",
       "      <td>1</td>\n",
       "    </tr>\n",
       "    <tr>\n",
       "      <th>3</th>\n",
       "      <td>4</td>\n",
       "      <td>Activo</td>\n",
       "      <td>2017-02-01</td>\n",
       "      <td>2017</td>\n",
       "      <td>F</td>\n",
       "      <td>18</td>\n",
       "      <td>4794222</td>\n",
       "      <td>Bogotá</td>\n",
       "      <td>Traslado de AFP</td>\n",
       "      <td>Porvenir</td>\n",
       "      <td>10</td>\n",
       "      <td>No</td>\n",
       "      <td>1</td>\n",
       "    </tr>\n",
       "    <tr>\n",
       "      <th>4</th>\n",
       "      <td>5</td>\n",
       "      <td>Activo</td>\n",
       "      <td>2017-03-01</td>\n",
       "      <td>2017</td>\n",
       "      <td>F</td>\n",
       "      <td>18</td>\n",
       "      <td>4621926</td>\n",
       "      <td>Cartagena</td>\n",
       "      <td>Traslado de AFP</td>\n",
       "      <td>Porvenir</td>\n",
       "      <td>10</td>\n",
       "      <td>No</td>\n",
       "      <td>1</td>\n",
       "    </tr>\n",
       "  </tbody>\n",
       "</table>\n",
       "</div>"
      ],
      "text/plain": [
       "   ID  Estado    Periodo   Año Género  Edad      IBC     Ciudad  \\\n",
       "0   1  Activo 2017-11-01  2017      F    18  4066223     Bogotá   \n",
       "1   2  Activo 2017-12-01  2017      M    65  1362789     Bogotá   \n",
       "2   3  Activo 2017-01-01  2017      F    66  1594382     Bogotá   \n",
       "3   4  Activo 2017-02-01  2017      F    18  4794222     Bogotá   \n",
       "4   5  Activo 2017-03-01  2017      F    18  4621926  Cartagena   \n",
       "\n",
       "   Origen_Afiliado  Origen_AFP  Nivel_de_Satisfacción PQR  Activo/Fugado  \n",
       "0  Traslado de AFP  Protección                      3  No              1  \n",
       "1  Traslado de AFP    Porvenir                     10  Si              1  \n",
       "2  Traslado de AFP  Protección                     10  No              1  \n",
       "3  Traslado de AFP    Porvenir                     10  No              1  \n",
       "4  Traslado de AFP    Porvenir                     10  No              1  "
      ]
     },
     "execution_count": 100,
     "metadata": {},
     "output_type": "execute_result"
    }
   ],
   "source": [
    "# Unir df's:\n",
    "\n",
    "Afiliados_total = pd.concat([Afiliados_Activos, Afiliados_Fugados], ignore_index=True)\n",
    "Afiliados_total.head(5)"
   ]
  },
  {
   "cell_type": "code",
   "execution_count": 101,
   "metadata": {},
   "outputs": [],
   "source": [
    "Afiliados_total['Género'] = Afiliados_total['Género'].replace({\n",
    "    'F': 1,\n",
    "    'M': 2\n",
    "})"
   ]
  },
  {
   "cell_type": "code",
   "execution_count": 102,
   "metadata": {},
   "outputs": [
    {
     "data": {
      "text/html": [
       "<div>\n",
       "<style scoped>\n",
       "    .dataframe tbody tr th:only-of-type {\n",
       "        vertical-align: middle;\n",
       "    }\n",
       "\n",
       "    .dataframe tbody tr th {\n",
       "        vertical-align: top;\n",
       "    }\n",
       "\n",
       "    .dataframe thead th {\n",
       "        text-align: right;\n",
       "    }\n",
       "</style>\n",
       "<table border=\"1\" class=\"dataframe\">\n",
       "  <thead>\n",
       "    <tr style=\"text-align: right;\">\n",
       "      <th></th>\n",
       "      <th>ID</th>\n",
       "      <th>Estado</th>\n",
       "      <th>Periodo</th>\n",
       "      <th>Año</th>\n",
       "      <th>Género</th>\n",
       "      <th>Edad</th>\n",
       "      <th>IBC</th>\n",
       "      <th>Ciudad</th>\n",
       "      <th>Origen_Afiliado</th>\n",
       "      <th>Origen_AFP</th>\n",
       "      <th>Nivel_de_Satisfacción</th>\n",
       "      <th>PQR</th>\n",
       "      <th>Activo/Fugado</th>\n",
       "    </tr>\n",
       "  </thead>\n",
       "  <tbody>\n",
       "    <tr>\n",
       "      <th>0</th>\n",
       "      <td>1</td>\n",
       "      <td>Activo</td>\n",
       "      <td>2017-11-01</td>\n",
       "      <td>2017</td>\n",
       "      <td>1</td>\n",
       "      <td>18</td>\n",
       "      <td>4066223</td>\n",
       "      <td>Bogotá</td>\n",
       "      <td>Traslado de AFP</td>\n",
       "      <td>Protección</td>\n",
       "      <td>3</td>\n",
       "      <td>No</td>\n",
       "      <td>1</td>\n",
       "    </tr>\n",
       "    <tr>\n",
       "      <th>1</th>\n",
       "      <td>2</td>\n",
       "      <td>Activo</td>\n",
       "      <td>2017-12-01</td>\n",
       "      <td>2017</td>\n",
       "      <td>2</td>\n",
       "      <td>65</td>\n",
       "      <td>1362789</td>\n",
       "      <td>Bogotá</td>\n",
       "      <td>Traslado de AFP</td>\n",
       "      <td>Porvenir</td>\n",
       "      <td>10</td>\n",
       "      <td>Si</td>\n",
       "      <td>1</td>\n",
       "    </tr>\n",
       "    <tr>\n",
       "      <th>2</th>\n",
       "      <td>3</td>\n",
       "      <td>Activo</td>\n",
       "      <td>2017-01-01</td>\n",
       "      <td>2017</td>\n",
       "      <td>1</td>\n",
       "      <td>66</td>\n",
       "      <td>1594382</td>\n",
       "      <td>Bogotá</td>\n",
       "      <td>Traslado de AFP</td>\n",
       "      <td>Protección</td>\n",
       "      <td>10</td>\n",
       "      <td>No</td>\n",
       "      <td>1</td>\n",
       "    </tr>\n",
       "  </tbody>\n",
       "</table>\n",
       "</div>"
      ],
      "text/plain": [
       "   ID  Estado    Periodo   Año  Género  Edad      IBC  Ciudad  \\\n",
       "0   1  Activo 2017-11-01  2017       1    18  4066223  Bogotá   \n",
       "1   2  Activo 2017-12-01  2017       2    65  1362789  Bogotá   \n",
       "2   3  Activo 2017-01-01  2017       1    66  1594382  Bogotá   \n",
       "\n",
       "   Origen_Afiliado  Origen_AFP  Nivel_de_Satisfacción PQR  Activo/Fugado  \n",
       "0  Traslado de AFP  Protección                      3  No              1  \n",
       "1  Traslado de AFP    Porvenir                     10  Si              1  \n",
       "2  Traslado de AFP  Protección                     10  No              1  "
      ]
     },
     "execution_count": 102,
     "metadata": {},
     "output_type": "execute_result"
    }
   ],
   "source": [
    "Afiliados_total.head(3)"
   ]
  },
  {
   "cell_type": "code",
   "execution_count": 103,
   "metadata": {},
   "outputs": [
    {
     "data": {
      "text/plain": [
       "ID                                int64\n",
       "Estado                           object\n",
       "Periodo                  datetime64[ns]\n",
       "Año                               int64\n",
       "Género                            int64\n",
       "Edad                              int64\n",
       "IBC                               int64\n",
       "Ciudad                           object\n",
       "Origen_Afiliado                  object\n",
       "Origen_AFP                       object\n",
       "Nivel_de_Satisfacción             int64\n",
       "PQR                              object\n",
       "Activo/Fugado                     int64\n",
       "dtype: object"
      ]
     },
     "execution_count": 103,
     "metadata": {},
     "output_type": "execute_result"
    }
   ],
   "source": [
    "Afiliados_total.dtypes"
   ]
  },
  {
   "cell_type": "code",
   "execution_count": 104,
   "metadata": {},
   "outputs": [
    {
     "data": {
      "text/plain": [
       "False"
      ]
     },
     "execution_count": 104,
     "metadata": {},
     "output_type": "execute_result"
    }
   ],
   "source": [
    "# Validar valores en nulo:\n",
    "\n",
    "Afiliados_total.isnull().any().any()  # Si deseas saber si hay algún valor nulo en todo el DataFrame (no solo por columnas), puedes encadenar otro método any()"
   ]
  },
  {
   "cell_type": "code",
   "execution_count": 108,
   "metadata": {},
   "outputs": [
    {
     "data": {
      "text/plain": [
       "ID                        int64\n",
       "Estado                   object\n",
       "Periodo                   int64\n",
       "Año                       int64\n",
       "Género                    int64\n",
       "Edad                      int64\n",
       "IBC                       int64\n",
       "Ciudad                   object\n",
       "Origen_Afiliado          object\n",
       "Origen_AFP               object\n",
       "Nivel_de_Satisfacción     int64\n",
       "PQR                      object\n",
       "Activo/Fugado             int64\n",
       "dtype: object"
      ]
     },
     "execution_count": 108,
     "metadata": {},
     "output_type": "execute_result"
    }
   ],
   "source": [
    "Afiliados_total['Periodo'] = Afiliados_total['Periodo'].dt.month\n",
    "Afiliados_total.dtypes"
   ]
  },
  {
   "cell_type": "markdown",
   "metadata": {},
   "source": [
    "## 4) Creación del modelo"
   ]
  },
  {
   "cell_type": "code",
   "execution_count": 105,
   "metadata": {},
   "outputs": [],
   "source": [
    "# Quiero enforcarme en predecir la columna \"Activo / Fugado\", entonces:\n",
    "\n",
    "X = Afiliados_total.drop('Activo/Fugado', axis=1)\n",
    "y = Afiliados_total['Activo/Fugado']\n",
    "\n",
    "# Ahora dividamos los datos en conjuntos de entrenamiento y prueba.\n",
    "X_train, X_test, y_train, y_test = train_test_split(X, y, test_size=0.2, stratify=y, random_state=42)\n"
   ]
  }
 ],
 "metadata": {
  "kernelspec": {
   "display_name": "Python 3",
   "language": "python",
   "name": "python3"
  },
  "language_info": {
   "codemirror_mode": {
    "name": "ipython",
    "version": 3
   },
   "file_extension": ".py",
   "mimetype": "text/x-python",
   "name": "python",
   "nbconvert_exporter": "python",
   "pygments_lexer": "ipython3",
   "version": "3.11.0"
  },
  "orig_nbformat": 4
 },
 "nbformat": 4,
 "nbformat_minor": 2
}
